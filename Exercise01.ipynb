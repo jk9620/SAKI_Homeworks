{
 "cells": [
  {
   "cell_type": "code",
   "execution_count": 127,
   "metadata": {},
   "outputs": [],
   "source": [
    "import numpy as np\n",
    "import pandas as pd\n",
    "from sklearn.naive_bayes import GaussianNB\n",
    "np.set_printoptions(suppress=True)"
   ]
  },
  {
   "cell_type": "code",
   "execution_count": 128,
   "metadata": {},
   "outputs": [],
   "source": [
    "DATA_CSV_FILE = 'Data_Set.csv'"
   ]
  },
  {
   "cell_type": "code",
   "execution_count": 129,
   "metadata": {},
   "outputs": [],
   "source": [
    "conditions = pd.read_csv(DATA_CSV_FILE, sep=';',usecols = [4,5,6,7,9])\n",
    "conditions['Kontonummer'] = conditions['Kontonummer'].astype(str)\n",
    "conditions['Betrag'] = conditions['Betrag'].astype('float')\n",
    "labels = pd.read_csv(DATA_CSV_FILE, sep=';',usecols = [11])"
   ]
  },
  {
   "cell_type": "code",
   "execution_count": 130,
   "metadata": {},
   "outputs": [],
   "source": [
    "from sklearn.preprocessing import LabelEncoder\n",
    "le = LabelEncoder()\n",
    "conditions['Buchungstext']= le.fit_transform(conditions['Buchungstext'])\n",
    "conditions['Verwendungszweck']= le.fit_transform(conditions['Verwendungszweck'])\n",
    "conditions['Beguenstigter/Zahlungspflichtiger']= le.fit_transform(conditions['Beguenstigter/Zahlungspflichtiger'])\n",
    "conditions['Kontonummer']= le.fit_transform(conditions['Kontonummer'])\n",
    "labels['label']= le.fit_transform(labels['label'])"
   ]
  },
  {
   "cell_type": "code",
   "execution_count": 131,
   "metadata": {},
   "outputs": [],
   "source": [
    "conditions = np.array(conditions)\n",
    "labels = np.ravel(labels)"
   ]
  },
  {
   "cell_type": "code",
   "execution_count": 132,
   "metadata": {},
   "outputs": [
    {
     "name": "stdout",
     "output_type": "stream",
     "text": [
      "[  10.   61.    4.    1. 2000.]\n",
      "1\n"
     ]
    }
   ],
   "source": [
    "print(conditions[0])\n",
    "print(labels[0])"
   ]
  },
  {
   "cell_type": "code",
   "execution_count": 133,
   "metadata": {},
   "outputs": [],
   "source": [
    "gnb = GaussianNB().fit(conditions, labels)"
   ]
  },
  {
   "cell_type": "code",
   "execution_count": 134,
   "metadata": {},
   "outputs": [],
   "source": [
    "testdata = [10, 60,4,1,2000]"
   ]
  },
  {
   "cell_type": "code",
   "execution_count": 135,
   "metadata": {},
   "outputs": [],
   "source": [
    "prob_pred = gnb.predict_proba([testdata])\n",
    "pred = gnb.predict([testdata])"
   ]
  },
  {
   "cell_type": "code",
   "execution_count": 136,
   "metadata": {},
   "outputs": [
    {
     "name": "stdout",
     "output_type": "stream",
     "text": [
      "Probability: [[0.00000001 0.99999998 0.         0.         0.         0.00000001]]\n",
      "[1]\n"
     ]
    }
   ],
   "source": [
    "print(\"Probability:\", prob_pred)\n",
    "print(pred)"
   ]
  },
  {
   "cell_type": "code",
   "execution_count": null,
   "metadata": {},
   "outputs": [],
   "source": []
  }
 ],
 "metadata": {
  "kernelspec": {
   "display_name": "Python 3",
   "language": "python",
   "name": "python3"
  },
  "language_info": {
   "codemirror_mode": {
    "name": "ipython",
    "version": 3
   },
   "file_extension": ".py",
   "mimetype": "text/x-python",
   "name": "python",
   "nbconvert_exporter": "python",
   "pygments_lexer": "ipython3",
   "version": "3.8.3"
  }
 },
 "nbformat": 4,
 "nbformat_minor": 4
}
